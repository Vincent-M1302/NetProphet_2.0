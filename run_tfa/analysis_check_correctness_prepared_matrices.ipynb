{
 "cells": [
  {
   "cell_type": "markdown",
   "metadata": {},
   "source": [
    "# Summary\n",
    "* This notebook is about checking the corretness of expression matrices that will be used to run Netprophet. (A bit of background), in order to run Netprophet, we had to prepare and process the expression data. This is done by my own script to the data given by Cynthia."
   ]
  },
  {
   "cell_type": "markdown",
   "metadata": {},
   "source": [
    "# Check Expression DATA\n",
    "We check expression data for zev_15, zev_45, zev_90, and all together zev_15_45_90\n",
    "* for each zev_15, 45, 90, it is of form: expression of perturbation, and the last column is WT\n",
    "* for TFA values, zev_15_45_90, it is of form expression of perturbation for 15, 45, 90, and one last column is WT\n",
    "    * zev_15 has 197 perturbation TFs + WT\n",
    "    * zev_45 (same)\n",
    "    * zev_90 has 196 perturbation TFs + WT"
   ]
  },
  {
   "cell_type": "markdown",
   "metadata": {},
   "source": [
    "## Zev_15"
   ]
  },
  {
   "cell_type": "code",
   "execution_count": 3,
   "metadata": {},
   "outputs": [
    {
     "name": "stdout",
     "output_type": "stream",
     "text": [
      "df_expr_zev_15 vs. df_expr_zev_15_cynthia identical? True\n",
      "genes identical? True\n",
      "conditions identical? True\n"
     ]
    }
   ],
   "source": [
    "from pandas import read_csv, Index\n",
    "\n",
    "# read cynthia files/data\n",
    "df_zev_15_expr_cynthia = read_csv('cynthia_yiming/zev15minExpressionMatrix.csv', header=0, index_col=0)\n",
    "l_zev_15_genes_cynthia = list(df_zev_15_expr_cynthia.index)\n",
    "l_zev_15_conditions_cynthia =  list(df_zev_15_expr_cynthia.columns)\n",
    "df_zev_15_expr_cynthia = df_zev_15_expr_cynthia.round(8)\n",
    "\n",
    "# read processed files/data\n",
    "df_zev_15_genes = read_csv('expr_zev_15_genes', header=None)\n",
    "l_zev_15_genes = list(df_zev_15_genes[0])\n",
    "df_zev_15_conditions = read_csv('expr_zev_15_conditions', header=None)\n",
    "l_zev_15_conditions = list(df_zev_15_conditions.iloc[:, 0])\n",
    "df_zev_15_expr = read_csv('expr_zev_15_data.expr', header=None, names=l_zev_15_conditions, sep='\\t')\n",
    "df_zev_15_expr.set_index(Index(l_zev_15_genes), inplace=True)\n",
    "df_zev_15_expr = df_zev_15_expr.round(8)\n",
    "\n",
    "# check if these values in my processed files are the same as cynthia's viles\n",
    "# print('df_expr_zev_15 identical?', df_zev_15_expr_cynthia.equals(df_zev_15_expr)) # using equals is a bit harder to compare the values of the dataframe because it is more of a dataframe comparison.\n",
    "print('df_expr_zev_15 vs. df_expr_zev_15_cynthia identical?', df_zev_15_expr_cynthia.where(df_zev_15_expr_cynthia.values == df_zev_15_expr.values).notna().all().all())\n",
    "print('genes identical?', l_zev_15_genes == l_zev_15_genes_cynthia)\n",
    "print('conditions identical?', l_zev_15_conditions == l_zev_15_conditions_cynthia)"
   ]
  },
  {
   "cell_type": "markdown",
   "metadata": {},
   "source": [
    "## Zev_45"
   ]
  },
  {
   "cell_type": "code",
   "execution_count": 4,
   "metadata": {},
   "outputs": [
    {
     "name": "stdout",
     "output_type": "stream",
     "text": [
      "df_expr_zev_45 vs. df_expr_zev_45_cynthia identical? True\n",
      "genes identical? True\n",
      "conditions identical? True\n"
     ]
    }
   ],
   "source": [
    "from pandas import read_csv, Index\n",
    "\n",
    "# read cynthia files/data\n",
    "df_zev_45_expr_cynthia = read_csv('cynthia_yiming/zev45minExpressionMatrix.csv', header=0, index_col=0)\n",
    "l_zev_45_genes_cynthia = list(df_zev_45_expr_cynthia.index)\n",
    "l_zev_45_conditions_cynthia =  list(df_zev_45_expr_cynthia.columns)\n",
    "df_zev_45_expr_cynthia = df_zev_45_expr_cynthia.round(8)\n",
    "\n",
    "# read processed files/data\n",
    "df_zev_45_genes = read_csv('expr_zev_45_genes', header=None)\n",
    "l_zev_45_genes = list(df_zev_45_genes[0])\n",
    "df_zev_45_conditions = read_csv('expr_zev_45_conditions', header=None)\n",
    "l_zev_45_conditions = list(df_zev_45_conditions.iloc[:, 0])\n",
    "df_zev_45_expr = read_csv('expr_zev_45_data.expr', header=None, names=l_zev_45_conditions, sep='\\t')\n",
    "df_zev_45_expr.set_index(Index(l_zev_45_genes), inplace=True)\n",
    "df_zev_45_expr = df_zev_45_expr.round(8)\n",
    "\n",
    "# check if these values in my processed files are the same as cynthia's viles\n",
    "print('df_expr_zev_45 vs. df_expr_zev_45_cynthia identical?', df_zev_45_expr_cynthia.where(df_zev_45_expr_cynthia.values == df_zev_45_expr.values).notna().all().all())\n",
    "print('genes identical?', l_zev_45_genes == l_zev_45_genes_cynthia)\n",
    "print('conditions identical?', l_zev_45_conditions == l_zev_45_conditions_cynthia)"
   ]
  },
  {
   "cell_type": "markdown",
   "metadata": {},
   "source": [
    "## Zev_90"
   ]
  },
  {
   "cell_type": "code",
   "execution_count": 5,
   "metadata": {},
   "outputs": [
    {
     "name": "stdout",
     "output_type": "stream",
     "text": [
      "df_expr_zev_90 vs. df_expr_zev_90_cynthia identical? True\n",
      "genes identical? True\n",
      "conditions identical? True\n"
     ]
    }
   ],
   "source": [
    "from pandas import read_csv, Index\n",
    "\n",
    "# read cynthia files/data\n",
    "df_zev_90_expr_cynthia = read_csv('cynthia_yiming/zev90minExpressionMatrix.csv', header=0, index_col=0)\n",
    "l_zev_90_genes_cynthia = list(df_zev_90_expr_cynthia.index)\n",
    "l_zev_90_conditions_cynthia =  list(df_zev_90_expr_cynthia.columns)\n",
    "df_zev_90_expr_cynthia = df_zev_90_expr_cynthia.round(8)\n",
    "\n",
    "# read processed files/data\n",
    "df_zev_90_genes = read_csv('expr_zev_90_genes', header=None)\n",
    "l_zev_90_genes = list(df_zev_90_genes[0])\n",
    "df_zev_90_conditions = read_csv('expr_zev_90_conditions', header=None)\n",
    "l_zev_90_conditions = list(df_zev_90_conditions.iloc[:, 0])\n",
    "df_zev_90_expr = read_csv('expr_zev_90_data.expr', header=None, names=l_zev_90_conditions, sep='\\t')\n",
    "df_zev_90_expr.set_index(Index(l_zev_90_genes), inplace=True)\n",
    "df_zev_90_expr = df_zev_90_expr.round(8)\n",
    "\n",
    "# check if these values in my processed files are the same as cynthia's viles\n",
    "print('df_expr_zev_90 vs. df_expr_zev_90_cynthia identical?', df_zev_90_expr_cynthia.where(df_zev_90_expr_cynthia.values == df_zev_90_expr.values).notna().all().all())\n",
    "print('genes identical?', l_zev_90_genes == l_zev_90_genes_cynthia)\n",
    "print('conditions identical?', l_zev_90_conditions == l_zev_90_conditions_cynthia)"
   ]
  },
  {
   "cell_type": "markdown",
   "metadata": {},
   "source": [
    "## Zev_15_45_90"
   ]
  },
  {
   "cell_type": "code",
   "execution_count": 32,
   "metadata": {
    "scrolled": true
   },
   "outputs": [
    {
     "name": "stdout",
     "output_type": "stream",
     "text": [
      "df_expr_zev_15_45_90 vs. df_expr_zev_15_45_90_cynthia identical? True\n",
      "genes list identical? True\n",
      "conditions list identical? True\n"
     ]
    }
   ],
   "source": [
    "from pandas import read_csv, Index, concat\n",
    "\n",
    "# read cynthia files/data\n",
    "# we have already read the individual files, now we can simply combine them\n",
    "df_zev_15_45_90_expr_cynthia = concat([df_zev_15_expr_cynthia.drop(['WT'], axis=1)\n",
    "                                          , df_zev_45_expr_cynthia.drop(['WT'], axis=1)\n",
    "                                          , df_zev_90_expr_cynthia]\n",
    "                                      , axis=1)\n",
    "l_zev_15_45_90_expr_cynthia_genes = list(df_zev_15_45_90_expr_cynthia.index)\n",
    "l_zev_15_45_90_expr_cynthia_conditions = list(df_zev_15_45_90_expr_cynthia.columns)\n",
    "\n",
    "df_zev_15_45_90_expr_cynthia.columns = [i for i in range(len(list(df_zev_15_45_90_expr_cynthia.columns)))]\n",
    "df_zev_15_45_90_expr_cynthia.set_index(Index([i for i in range(len(list(df_zev_15_45_90_expr_cynthia.index)))])\n",
    "                                       , inplace=True)\n",
    "# read processed files/data\n",
    "df_zev_15_45_90_genes = read_csv('expr_zev_15_45_90_genes', header=None)\n",
    "l_zev_15_45_90_genes = list(df_zev_15_45_90_genes[0])\n",
    "df_zev_15_45_90_conditions = read_csv('expr_zev_15_45_90_conditions', header=None)\n",
    "l_zev_15_45_90_conditions = list(df_zev_15_45_90_conditions.iloc[:, 0])\n",
    "df_zev_15_45_90_expr = read_csv('expr_zev_15_45_90_data.expr', header=None, sep='\\t')\n",
    "# df_zev_15_45_90_expr.set_index(Index(l_zev_15_45_90_genes), inplace=True)\n",
    "df_zev_15_45_90_expr = df_zev_15_45_90_expr.round(8)\n",
    "\n",
    "# check if these values in my processed files are the same as cynthia's viles\n",
    "print('df_expr_zev_15_45_90 vs. df_expr_zev_15_45_90_cynthia identical?', df_zev_15_45_90_expr_cynthia.where(df_zev_15_45_90_expr_cynthia.values == df_zev_15_45_90_expr.values).notna().all().all())\n",
    "print('genes list identical?', l_zev_15_45_90_expr_cynthia_genes == l_zev_15_45_90_genes)\n",
    "print('conditions list identical?', l_zev_15_45_90_expr_cynthia_conditions == l_zev_15_45_90_conditions)"
   ]
  },
  {
   "cell_type": "markdown",
   "metadata": {},
   "source": [
    "# Check if TFA values are subtituted correctly\n",
    "TFA values are presented in one single matrix called 'deZEVlearnedTFAlabeled.csv' for all zev_15, 45, and 90. We take this matrix and we treat each data points for 15, 45, 90 apart to check if the data is processed and saved correctly in my files."
   ]
  },
  {
   "cell_type": "markdown",
   "metadata": {},
   "source": [
    "## Zev_15"
   ]
  },
  {
   "cell_type": "code",
   "execution_count": 8,
   "metadata": {},
   "outputs": [
    {
     "name": "stdout",
     "output_type": "stream",
     "text": [
      "df_zev_15 TFA identical? True\n",
      "df_zev_15 expr identical? True\n",
      "genes identical? True\n",
      "conditions identical? True\n"
     ]
    }
   ],
   "source": [
    "# read cynthia files/data\n",
    "df_zev_15_45_90_tfa_cynthia = read_csv('cynthia_yiming/deZEVlearnedTFAlabeled.csv', header=0, index_col=0)\n",
    "df_zev_15_tfa_cynthia = df_zev_15_45_90_tfa_cynthia.iloc[:, [i for i in range(197)]+[590]]\n",
    "df_zev_15_tfa_cynthia = df_zev_15_tfa_cynthia.round(8)\n",
    "\n",
    "# read processed files/data\n",
    "l_zev_15_conditions = list(read_csv('expr_zev_15_conditions', header=None)[0])\n",
    "df_zev_15_expr_tfa = read_csv('expr_tfa_zev_15_data.expr', header=None, names=l_zev_15_conditions, sep='\\t')\n",
    "l_zev_15_genes = list(read_csv('expr_zev_15_genes', header=None)[0])\n",
    "df_zev_15_expr_tfa.set_index(Index(l_zev_15_genes), inplace=True)\n",
    "df_zev_15_expr_tfa = df_zev_15_expr_tfa.round(8)\n",
    "\n",
    "# check if these my processed files and cynthia's files are the same\n",
    "# for TFA\n",
    "df_tfa = df_zev_15_expr_tfa[df_zev_15_expr_tfa.index.isin(list(df_zev_15_tfa_cynthia.index))]\n",
    "print('df_zev_15 TFA identical?', df_zev_15_tfa_cynthia.where(df_zev_15_tfa_cynthia.values == df_tfa.values).notna().all().all())\n",
    "# for expr\n",
    "df_expr_cynthia = df_zev_15_expr_cynthia[~df_zev_15_expr_cynthia.index.isin(list(df_zev_15_tfa_cynthia.index))]\n",
    "df_expr = df_zev_15_expr_tfa[~df_zev_15_expr_tfa.index.isin(list(df_zev_15_tfa_cynthia.index))]\n",
    "print('df_zev_15 expr identical?', df_expr_cynthia.where(df_expr_cynthia.values == df_expr.values).notna().all().all())\n",
    "# for genes and conditions\n",
    "print('genes identical?', l_zev_15_genes == list(df_zev_15_expr_cynthia.index))\n",
    "print('conditions identical?', l_zev_15_conditions == list(df_zev_15_45_90_tfa_cynthia.iloc[:, [i for i in range(197)]+[590]].columns))"
   ]
  },
  {
   "cell_type": "markdown",
   "metadata": {},
   "source": [
    "## Zev_45"
   ]
  },
  {
   "cell_type": "code",
   "execution_count": 9,
   "metadata": {
    "scrolled": true
   },
   "outputs": [
    {
     "name": "stdout",
     "output_type": "stream",
     "text": [
      "df_zev_45 TFA identical? True\n",
      "df_zev_45 expr identical? True\n",
      "genes identical? True\n",
      "conditions identical? True\n"
     ]
    }
   ],
   "source": [
    "import numpy as np\n",
    "from pandas import read_csv, Index\n",
    "\n",
    "# read cynthia files/data\n",
    "df_zev_15_45_90_tfa_cynthia = read_csv('cynthia_yiming/deZEVlearnedTFAlabeled.csv', header=None)\n",
    "l_zev_45_tfa_conditions_cynthia = list(df_zev_15_45_90_tfa_cynthia.iloc[0, np.r_[198:395,591]])\n",
    "l_zev_45_tfa_genes_cynthia = list(df_zev_15_45_90_tfa_cynthia.iloc[1:, 0])\n",
    "df_zev_45_tfa_cynthia = df_zev_15_45_90_tfa_cynthia.iloc[1:, np.r_[198:395,591]]\n",
    "df_zev_45_tfa_cynthia.columns = l_zev_45_tfa_conditions_cynthia\n",
    "df_zev_45_tfa_cynthia.set_index(Index(l_zev_45_tfa_genes_cynthia), inplace=True)\n",
    "df_zev_45_tfa_cynthia = df_zev_45_tfa_cynthia.astype(float)\n",
    "df_zev_45_tfa_cynthia = df_zev_45_tfa_cynthia.round(8)\n",
    "\n",
    "# read processed files/data\n",
    "l_zev_45_conditions = list(read_csv('expr_zev_45_conditions', header=None)[0])\n",
    "df_zev_45_expr_tfa = read_csv('expr_tfa_zev_45_data.expr', header=None, names=l_zev_45_conditions, sep='\\t')\n",
    "l_zev_45_genes = list(read_csv('expr_zev_45_genes', header=None)[0])\n",
    "df_zev_45_expr_tfa.set_index(Index(l_zev_45_genes), inplace=True)\n",
    "df_zev_45_expr_tfa = df_zev_45_expr_tfa.round(8)\n",
    "\n",
    "# check if these my processed files and cynthia's files are the same\n",
    "# for TFA\n",
    "df_tfa = df_zev_45_expr_tfa[df_zev_45_expr_tfa.index.isin(list(df_zev_45_tfa_cynthia.index))]\n",
    "print('df_zev_45 TFA identical?', df_zev_45_tfa_cynthia.where(df_zev_45_tfa_cynthia.values == df_tfa.values).notna().all().all())\n",
    "# for expr\n",
    "df_expr_cynthia = df_zev_45_expr_cynthia[~df_zev_45_expr_cynthia.index.isin(list(df_zev_45_tfa_cynthia.index))]\n",
    "df_expr = df_zev_45_expr_tfa[~df_zev_45_expr_tfa.index.isin(list(df_zev_45_tfa_cynthia.index))]\n",
    "print('df_zev_45 expr identical?', df_expr_cynthia.where(df_expr_cynthia.values == df_expr.values).notna().all().all())\n",
    "# for genes and conditions\n",
    "print('genes identical?', l_zev_45_genes == list(df_zev_45_expr_cynthia.index))\n",
    "print('conditions identical?', l_zev_45_conditions == l_zev_45_tfa_conditions_cynthia)"
   ]
  },
  {
   "cell_type": "markdown",
   "metadata": {},
   "source": [
    "## Zev_90"
   ]
  },
  {
   "cell_type": "code",
   "execution_count": 10,
   "metadata": {},
   "outputs": [
    {
     "name": "stdout",
     "output_type": "stream",
     "text": [
      "df_zev_90 TFA identical? True\n",
      "df_zev_90 expr identical? True\n",
      "genes identical? True\n",
      "conditions identical? True\n"
     ]
    }
   ],
   "source": [
    "import numpy as np\n",
    "from pandas import read_csv, Index\n",
    "\n",
    "# read cynthia files/data\n",
    "df_zev_15_45_90_tfa_cynthia = read_csv('cynthia_yiming/deZEVlearnedTFAlabeled.csv', header=None)\n",
    "l_zev_90_tfa_conditions_cynthia = list(df_zev_15_45_90_tfa_cynthia.iloc[0, np.r_[395:592]])\n",
    "l_zev_90_tfa_genes_cynthia = list(df_zev_15_45_90_tfa_cynthia.iloc[1:, 0])\n",
    "df_zev_90_tfa_cynthia = df_zev_15_45_90_tfa_cynthia.iloc[1:, np.r_[395:592]]\n",
    "df_zev_90_tfa_cynthia.columns = l_zev_90_tfa_conditions_cynthia\n",
    "df_zev_90_tfa_cynthia.set_index(Index(l_zev_90_tfa_genes_cynthia), inplace=True)\n",
    "df_zev_90_tfa_cynthia = df_zev_90_tfa_cynthia.astype(float)\n",
    "df_zev_90_tfa_cynthia = df_zev_90_tfa_cynthia.round(8)\n",
    "\n",
    "# read processed files/data\n",
    "l_zev_90_conditions = list(read_csv('expr_zev_90_conditions', header=None)[0])\n",
    "df_zev_90_expr_tfa = read_csv('expr_tfa_zev_90_data.expr', header=None, names=l_zev_90_conditions, sep='\\t')\n",
    "l_zev_90_genes = list(read_csv('expr_zev_90_genes', header=None)[0])\n",
    "df_zev_90_expr_tfa.set_index(Index(l_zev_90_genes), inplace=True)\n",
    "df_zev_90_expr_tfa = df_zev_90_expr_tfa.round(8)\n",
    "\n",
    "# check if these my processed files and cynthia's files are the same\n",
    "# for TFA\n",
    "df_tfa = df_zev_90_expr_tfa[df_zev_90_expr_tfa.index.isin(list(df_zev_90_tfa_cynthia.index))]\n",
    "print('df_zev_90 TFA identical?', df_zev_90_tfa_cynthia.where(df_zev_90_tfa_cynthia.values == df_tfa.values).notna().all().all())\n",
    "# for expr\n",
    "df_expr_cynthia = df_zev_90_expr_cynthia[~df_zev_90_expr_cynthia.index.isin(list(df_zev_90_tfa_cynthia.index))]\n",
    "df_expr = df_zev_90_expr_tfa[~df_zev_90_expr_tfa.index.isin(list(df_zev_90_tfa_cynthia.index))]\n",
    "print('df_zev_90 expr identical?', df_expr_cynthia.where(df_expr_cynthia.values == df_expr.values).notna().all().all())\n",
    "# for genes and conditions\n",
    "print('genes identical?', l_zev_90_genes == list(df_zev_90_expr_cynthia.index))\n",
    "print('conditions identical?', l_zev_90_conditions == l_zev_90_tfa_conditions_cynthia)"
   ]
  },
  {
   "cell_type": "markdown",
   "metadata": {},
   "source": [
    "## Zev_15_45_90"
   ]
  },
  {
   "cell_type": "code",
   "execution_count": 33,
   "metadata": {},
   "outputs": [
    {
     "name": "stdout",
     "output_type": "stream",
     "text": [
      "df_zev_15_45_90 TFA identical? True\n",
      "df_zev_15_45_90 expr identical? True\n",
      "genes identical? True\n",
      "conditions identical? True\n"
     ]
    }
   ],
   "source": [
    "import numpy as np\n",
    "from pandas import read_csv, Index\n",
    "\n",
    "# read cynthia files/data\n",
    "df_zev_15_45_90_tfa_cynthia = read_csv('cynthia_yiming/deZEVlearnedTFAlabeled.csv', header=None)\n",
    "l_zev_15_45_90_tfa_conditions_cynthia = list(df_zev_15_45_90_tfa_cynthia.iloc[0, np.r_[1:592]])\n",
    "l_zev_15_45_90_tfa_genes_cynthia = list(df_zev_15_45_90_tfa_cynthia.iloc[1:, 0])\n",
    "df_zev_15_45_90_tfa_cynthia = df_zev_15_45_90_tfa_cynthia.iloc[1:, np.r_[1:592]]\n",
    "df_zev_15_45_90_tfa_cynthia.set_index(Index(l_zev_15_45_90_tfa_genes_cynthia), inplace=True)\n",
    "df_zev_15_45_90_tfa_cynthia = df_zev_15_45_90_tfa_cynthia.astype(float)\n",
    "df_zev_15_45_90_tfa_cynthia = df_zev_15_45_90_tfa_cynthia.round(8)\n",
    "\n",
    "# read processed files/data\n",
    "l_zev_15_45_90_conditions = list(read_csv('expr_zev_15_45_90_conditions', header=None)[0])\n",
    "df_zev_15_45_90_expr_tfa = read_csv('expr_tfa_zev_15_45_90_data.expr', header=None, sep='\\t')\n",
    "l_zev_15_45_90_genes = list(read_csv('expr_zev_15_45_90_genes', header=None)[0])\n",
    "df_zev_15_45_90_expr_tfa.set_index(Index(l_zev_15_45_90_genes), inplace=True)\n",
    "df_zev_15_45_90_expr_tfa = df_zev_15_45_90_expr_tfa.round(8)\n",
    "\n",
    "# check if these my processed files and cynthia's files are the same\n",
    "# for TFA\n",
    "df_tfa = df_zev_15_45_90_expr_tfa[df_zev_15_45_90_expr_tfa.index.isin(list(df_zev_15_45_90_tfa_cynthia.index))]\n",
    "print('df_zev_15_45_90 TFA identical?', df_zev_15_45_90_tfa_cynthia.where(df_zev_15_45_90_tfa_cynthia.values == df_tfa.values).notna().all().all())\n",
    "# for expr\n",
    "df_zev_15_45_90_expr_cynthia.set_index(Index(l_zev_15_45_90_expr_cynthia_genes)\n",
    "                                       , inplace=True)\n",
    "df_expr_cynthia = df_zev_15_45_90_expr_cynthia[~df_zev_15_45_90_expr_cynthia.index.isin(list(df_zev_15_45_90_tfa_cynthia.index))]\n",
    "df_expr = df_zev_15_45_90_expr_tfa[~df_zev_15_45_90_expr_tfa.index.isin(list(df_zev_15_45_90_tfa_cynthia.index))]\n",
    "print('df_zev_15_45_90 expr identical?', df_expr_cynthia.where(df_expr_cynthia.values == df_expr.values).notna().all().all())\n",
    "# for genes and conditions\n",
    "print('genes identical?', l_zev_15_45_90_genes == l_zev_15_45_90_expr_cynthia_genes)\n",
    "print('conditions identical?', l_zev_15_45_90_conditions == l_zev_15_45_90_tfa_conditions_cynthia)"
   ]
  },
  {
   "cell_type": "markdown",
   "metadata": {},
   "source": [
    "# Check if TFA values are normalized correctly"
   ]
  },
  {
   "cell_type": "code",
   "execution_count": 1,
   "metadata": {},
   "outputs": [],
   "source": [
    "from pandas import read_csv\n",
    "import numpy as np"
   ]
  },
  {
   "cell_type": "markdown",
   "metadata": {},
   "source": [
    "## Zev 15"
   ]
  },
  {
   "cell_type": "code",
   "execution_count": 25,
   "metadata": {},
   "outputs": [
    {
     "name": "stdout",
     "output_type": "stream",
     "text": [
      "df_zev_15 TFA identical? True\n",
      "df_zev_15 expr identical? True\n",
      "genes identical? True\n",
      "conditions identical? True\n"
     ]
    }
   ],
   "source": [
    "# read cynthia files/data\n",
    "df_zev_15_45_90_tfa_cynthia = read_csv('cynthia_yiming/deZEVlearnedTFAlabeled.csv', header=0, index_col=0)\n",
    "df_zev_15_tfa_cynthia = df_zev_15_45_90_tfa_cynthia.iloc[:, [i for i in range(197)]+[590]]\n",
    "\n",
    "# normalize tfa_zev_15\n",
    "df_zev_15_tfa_cynthia = np.log(df_zev_15_tfa_cynthia)\n",
    "mean_df_zev_15_tfa_cynthia = df_zev_15_tfa_cynthia.mean(axis=1)\n",
    "std_df_zev_15_tfa_cynthia = df_zev_15_tfa_cynthia.std(axis=1)\n",
    "df_zev_15_tfa_cynthia = df_zev_15_tfa_cynthia.sub(mean_df_zev_15_tfa_cynthia, axis=0).div(std_df_zev_15_tfa_cynthia, axis=0)\n",
    "df_zev_15_tfa_cynthia = df_zev_15_tfa_cynthia.round(8)\n",
    "\n",
    "# read processed files/data\n",
    "l_zev_15_conditions = list(read_csv('expr_zev_15_conditions', header=None)[0])\n",
    "df_zev_15_expr_tfa = read_csv('expr_tfa_zev_15_data.expr_log_norm_tf', header=None, names=l_zev_15_conditions, sep='\\t')\n",
    "l_zev_15_genes = list(read_csv('expr_zev_15_genes', header=None)[0])\n",
    "df_zev_15_expr_tfa.set_index(Index(l_zev_15_genes), inplace=True)\n",
    "df_zev_15_expr_tfa = df_zev_15_expr_tfa.round(8)\n",
    "\n",
    "# check if these my processed files and cynthia's files are the same\n",
    "# for TFA\n",
    "df_tfa = df_zev_15_expr_tfa[df_zev_15_expr_tfa.index.isin(list(df_zev_15_tfa_cynthia.index))]\n",
    "print('df_zev_15 TFA identical?', df_zev_15_tfa_cynthia.where(df_zev_15_tfa_cynthia.values == df_tfa.values).notna().all().all())\n",
    "# for expr\n",
    "df_expr_cynthia = df_zev_15_expr_cynthia[~df_zev_15_expr_cynthia.index.isin(list(df_zev_15_tfa_cynthia.index))]\n",
    "df_expr = df_zev_15_expr_tfa[~df_zev_15_expr_tfa.index.isin(list(df_zev_15_tfa_cynthia.index))]\n",
    "print('df_zev_15 expr identical?', df_expr_cynthia.where(df_expr_cynthia.values == df_expr.values).notna().all().all())\n",
    "# for genes and conditions\n",
    "print('genes identical?', l_zev_15_genes == list(df_zev_15_expr_cynthia.index))\n",
    "print('conditions identical?', l_zev_15_conditions == list(df_zev_15_45_90_tfa_cynthia.iloc[:, [i for i in range(197)]+[590]].columns))"
   ]
  },
  {
   "cell_type": "markdown",
   "metadata": {},
   "source": [
    "## Zev 45"
   ]
  },
  {
   "cell_type": "code",
   "execution_count": 26,
   "metadata": {},
   "outputs": [
    {
     "name": "stdout",
     "output_type": "stream",
     "text": [
      "df_zev_45 TFA identical? True\n",
      "df_zev_45 expr identical? True\n",
      "genes identical? True\n",
      "conditions identical? True\n"
     ]
    }
   ],
   "source": [
    "import numpy as np\n",
    "from pandas import read_csv, Index\n",
    "\n",
    "# read cynthia files/data\n",
    "df_zev_15_45_90_tfa_cynthia = read_csv('cynthia_yiming/deZEVlearnedTFAlabeled.csv', header=None)\n",
    "l_zev_45_tfa_conditions_cynthia = list(df_zev_15_45_90_tfa_cynthia.iloc[0, np.r_[198:395,591]])\n",
    "l_zev_45_tfa_genes_cynthia = list(df_zev_15_45_90_tfa_cynthia.iloc[1:, 0])\n",
    "df_zev_45_tfa_cynthia = df_zev_15_45_90_tfa_cynthia.iloc[1:, np.r_[198:395,591]]\n",
    "df_zev_45_tfa_cynthia.columns = l_zev_45_tfa_conditions_cynthia\n",
    "df_zev_45_tfa_cynthia.set_index(Index(l_zev_45_tfa_genes_cynthia), inplace=True)\n",
    "df_zev_45_tfa_cynthia = df_zev_45_tfa_cynthia.astype(float)\n",
    "\n",
    "# normalize tfa_zev_45\n",
    "df_zev_45_tfa_cynthia = np.log(df_zev_45_tfa_cynthia)\n",
    "mean_df_zev_45_tfa_cynthia = df_zev_45_tfa_cynthia.mean(axis=1)\n",
    "std_df_zev_45_tfa_cynthia = df_zev_45_tfa_cynthia.std(axis=1)\n",
    "df_zev_45_tfa_cynthia = df_zev_45_tfa_cynthia.sub(mean_df_zev_45_tfa_cynthia, axis=0).div(std_df_zev_45_tfa_cynthia, axis=0)\n",
    "df_zev_45_tfa_cynthia = df_zev_45_tfa_cynthia.round(8)\n",
    "\n",
    "# read processed files/data\n",
    "l_zev_45_conditions = list(read_csv('expr_zev_45_conditions', header=None)[0])\n",
    "df_zev_45_expr_tfa = read_csv('expr_tfa_zev_45_data.expr_log_norm_tf', header=None, names=l_zev_45_conditions, sep='\\t')\n",
    "l_zev_45_genes = list(read_csv('expr_zev_45_genes', header=None)[0])\n",
    "df_zev_45_expr_tfa.set_index(Index(l_zev_45_genes), inplace=True)\n",
    "df_zev_45_expr_tfa = df_zev_45_expr_tfa.round(8)\n",
    "\n",
    "# check if these my processed files and cynthia's files are the same\n",
    "# for TFA\n",
    "df_tfa = df_zev_45_expr_tfa[df_zev_45_expr_tfa.index.isin(list(df_zev_45_tfa_cynthia.index))]\n",
    "print('df_zev_45 TFA identical?', df_zev_45_tfa_cynthia.where(df_zev_45_tfa_cynthia.values == df_tfa.values).notna().all().all())\n",
    "# for expr\n",
    "df_expr_cynthia = df_zev_45_expr_cynthia[~df_zev_45_expr_cynthia.index.isin(list(df_zev_45_tfa_cynthia.index))]\n",
    "df_expr = df_zev_45_expr_tfa[~df_zev_45_expr_tfa.index.isin(list(df_zev_45_tfa_cynthia.index))]\n",
    "print('df_zev_45 expr identical?', df_expr_cynthia.where(df_expr_cynthia.values == df_expr.values).notna().all().all())\n",
    "# for genes and conditions\n",
    "print('genes identical?', l_zev_45_genes == list(df_zev_45_expr_cynthia.index))\n",
    "print('conditions identical?', l_zev_45_conditions == l_zev_45_tfa_conditions_cynthia)"
   ]
  },
  {
   "cell_type": "markdown",
   "metadata": {},
   "source": [
    "## Zev 90"
   ]
  },
  {
   "cell_type": "code",
   "execution_count": 30,
   "metadata": {},
   "outputs": [
    {
     "name": "stdout",
     "output_type": "stream",
     "text": [
      "df_zev_90 TFA identical? True\n",
      "df_zev_90 expr identical? True\n",
      "genes identical? True\n",
      "conditions identical? True\n"
     ]
    }
   ],
   "source": [
    "import numpy as np\n",
    "from pandas import read_csv, Index\n",
    "\n",
    "# read cynthia files/data\n",
    "df_zev_15_45_90_tfa_cynthia = read_csv('cynthia_yiming/deZEVlearnedTFAlabeled.csv', header=None)\n",
    "l_zev_90_tfa_conditions_cynthia = list(df_zev_15_45_90_tfa_cynthia.iloc[0, np.r_[395:592]])\n",
    "l_zev_90_tfa_genes_cynthia = list(df_zev_15_45_90_tfa_cynthia.iloc[1:, 0])\n",
    "df_zev_90_tfa_cynthia = df_zev_15_45_90_tfa_cynthia.iloc[1:, np.r_[395:592]]\n",
    "df_zev_90_tfa_cynthia.columns = l_zev_90_tfa_conditions_cynthia\n",
    "df_zev_90_tfa_cynthia.set_index(Index(l_zev_90_tfa_genes_cynthia), inplace=True)\n",
    "df_zev_90_tfa_cynthia = df_zev_90_tfa_cynthia.astype(float)\n",
    "\n",
    "# normalize tfa_zev_90\n",
    "df_zev_90_tfa_cynthia = np.log(df_zev_90_tfa_cynthia)\n",
    "mean_df_zev_90_tfa_cynthia = df_zev_90_tfa_cynthia.mean(axis=1)\n",
    "std_df_zev_90_tfa_cynthia = df_zev_90_tfa_cynthia.std(axis=1)\n",
    "df_zev_90_tfa_cynthia = df_zev_90_tfa_cynthia.sub(mean_df_zev_90_tfa_cynthia, axis=0).div(std_df_zev_90_tfa_cynthia, axis=0)\n",
    "df_zev_90_tfa_cynthia = df_zev_90_tfa_cynthia.round(8)\n",
    "\n",
    "# read processed files/data\n",
    "l_zev_90_conditions = list(read_csv('expr_zev_90_conditions', header=None)[0])\n",
    "df_zev_90_expr_tfa = read_csv('expr_tfa_zev_90_data.expr_log_norm_tf', header=None, names=l_zev_90_conditions, sep='\\t')\n",
    "l_zev_90_genes = list(read_csv('expr_zev_90_genes', header=None)[0])\n",
    "df_zev_90_expr_tfa.set_index(Index(l_zev_90_genes), inplace=True)\n",
    "df_zev_90_expr_tfa = df_zev_90_expr_tfa.round(8)\n",
    "\n",
    "# check if these my processed files and cynthia's files are the same\n",
    "# for TFA\n",
    "df_tfa = df_zev_90_expr_tfa[df_zev_90_expr_tfa.index.isin(list(df_zev_90_tfa_cynthia.index))]\n",
    "print('df_zev_90 TFA identical?', df_zev_90_tfa_cynthia.where(df_zev_90_tfa_cynthia.values == df_tfa.values).notna().all().all())\n",
    "# for expr\n",
    "df_expr_cynthia = df_zev_90_expr_cynthia[~df_zev_90_expr_cynthia.index.isin(list(df_zev_90_tfa_cynthia.index))]\n",
    "df_expr = df_zev_90_expr_tfa[~df_zev_90_expr_tfa.index.isin(list(df_zev_90_tfa_cynthia.index))]\n",
    "print('df_zev_90 expr identical?', df_expr_cynthia.where(df_expr_cynthia.values == df_expr.values).notna().all().all())\n",
    "# for genes and conditions\n",
    "print('genes identical?', l_zev_90_genes == list(df_zev_90_expr_cynthia.index))\n",
    "print('conditions identical?', l_zev_90_conditions == l_zev_90_tfa_conditions_cynthia)"
   ]
  },
  {
   "cell_type": "markdown",
   "metadata": {},
   "source": [
    "## Zev 15_45_90"
   ]
  },
  {
   "cell_type": "code",
   "execution_count": 43,
   "metadata": {},
   "outputs": [
    {
     "name": "stdout",
     "output_type": "stream",
     "text": [
      "df_zev_15_45_90 TFA identical? True\n",
      "df_zev_15_45_90 expr identical? True\n",
      "genes identical? True\n",
      "conditions identical? True\n"
     ]
    }
   ],
   "source": [
    "import numpy as np\n",
    "from pandas import read_csv, Index, concat\n",
    "\n",
    "# read cynthia files/data\n",
    "df_zev_15_45_90_tfa_cynthia = read_csv('cynthia_yiming/deZEVlearnedTFAlabeled.csv', header=None)\n",
    "l_zev_15_45_90_tfa_conditions_cynthia = list(df_zev_15_45_90_tfa_cynthia.iloc[0, np.r_[1:592]])\n",
    "l_zev_15_45_90_tfa_genes_cynthia = list(df_zev_15_45_90_tfa_cynthia.iloc[1:, 0])\n",
    "df_zev_15_45_90_tfa_cynthia = df_zev_15_45_90_tfa_cynthia.iloc[1:, np.r_[1:592]]\n",
    "df_zev_15_45_90_tfa_cynthia.set_index(Index(l_zev_15_45_90_tfa_genes_cynthia), inplace=True)\n",
    "df_zev_15_45_90_tfa_cynthia = df_zev_15_45_90_tfa_cynthia.astype(float)\n",
    "\n",
    "# normalize tfa_zev_90\n",
    "# df_zev_15_45_90_tfa_cynthia = np.log(df_zev_15_45_90_tfa_cynthia)\n",
    "# mean_df_zev_15_45_90_tfa_cynthia = df_zev_15_45_90_tfa_cynthia.mean(axis=1)\n",
    "# std_df_zev_15_45_90_tfa_cynthia = df_zev_15_45_90_tfa_cynthia.std(axis=1)\n",
    "# df_zev_15_45_90_tfa_cynthia = df_zev_15_45_90_tfa_cynthia.sub(mean_df_zev_15_45_90_tfa_cynthia, axis=0).div(std_df_zev_15_45_90_tfa_cynthia, axis=0)\n",
    "df_zev_15_45_90_tfa_cynthia = concat([df_zev_15_tfa_cynthia.drop(['WT'], axis=1), df_zev_45_tfa_cynthia.drop('WT', axis=1), df_zev_90_tfa_cynthia], axis=1)\n",
    "df_zev_15_45_90_tfa_cynthia = df_zev_15_45_90_tfa_cynthia.round(8)\n",
    "\n",
    "# read processed files/data\n",
    "l_zev_15_45_90_conditions = list(read_csv('expr_zev_15_45_90_conditions', header=None)[0])\n",
    "df_zev_15_45_90_expr_tfa = read_csv('expr_tfa_zev_15_45_90_data.expr_log_norm_tf', header=None, sep='\\t')\n",
    "l_zev_15_45_90_genes = list(read_csv('expr_zev_15_45_90_genes', header=None)[0])\n",
    "df_zev_15_45_90_expr_tfa.set_index(Index(l_zev_15_45_90_genes), inplace=True)\n",
    "df_zev_15_45_90_expr_tfa = df_zev_15_45_90_expr_tfa.round(8)\n",
    "\n",
    "# check if these my processed files and cynthia's files are the same\n",
    "# for TFA\n",
    "df_tfa = df_zev_15_45_90_expr_tfa[df_zev_15_45_90_expr_tfa.index.isin(list(df_zev_15_45_90_tfa_cynthia.index))]\n",
    "print('df_zev_15_45_90 TFA identical?', df_zev_15_45_90_tfa_cynthia.where(df_zev_15_45_90_tfa_cynthia.values == df_tfa.values).notna().all().all())\n",
    "# for expr\n",
    "df_zev_15_45_90_expr_cynthia.set_index(Index(l_zev_15_45_90_expr_cynthia_genes)\n",
    "                                       , inplace=True)\n",
    "df_expr_cynthia = df_zev_15_45_90_expr_cynthia[~df_zev_15_45_90_expr_cynthia.index.isin(list(df_zev_15_45_90_tfa_cynthia.index))]\n",
    "df_expr = df_zev_15_45_90_expr_tfa[~df_zev_15_45_90_expr_tfa.index.isin(list(df_zev_15_45_90_tfa_cynthia.index))]\n",
    "print('df_zev_15_45_90 expr identical?', df_expr_cynthia.where(df_expr_cynthia.values == df_expr.values).notna().all().all())\n",
    "# for genes and conditions\n",
    "print('genes identical?', l_zev_15_45_90_genes == l_zev_15_45_90_expr_cynthia_genes)\n",
    "print('conditions identical?', l_zev_15_45_90_conditions == l_zev_15_45_90_tfa_conditions_cynthia)"
   ]
  },
  {
   "cell_type": "code",
   "execution_count": 40,
   "metadata": {},
   "outputs": [
    {
     "data": {
      "text/html": [
       "<div>\n",
       "<style scoped>\n",
       "    .dataframe tbody tr th:only-of-type {\n",
       "        vertical-align: middle;\n",
       "    }\n",
       "\n",
       "    .dataframe tbody tr th {\n",
       "        vertical-align: top;\n",
       "    }\n",
       "\n",
       "    .dataframe thead th {\n",
       "        text-align: right;\n",
       "    }\n",
       "</style>\n",
       "<table border=\"1\" class=\"dataframe\">\n",
       "  <thead>\n",
       "    <tr style=\"text-align: right;\">\n",
       "      <th></th>\n",
       "      <th>1</th>\n",
       "      <th>2</th>\n",
       "      <th>3</th>\n",
       "      <th>4</th>\n",
       "      <th>5</th>\n",
       "      <th>6</th>\n",
       "      <th>7</th>\n",
       "      <th>8</th>\n",
       "      <th>9</th>\n",
       "      <th>10</th>\n",
       "      <th>...</th>\n",
       "      <th>582</th>\n",
       "      <th>583</th>\n",
       "      <th>584</th>\n",
       "      <th>585</th>\n",
       "      <th>586</th>\n",
       "      <th>587</th>\n",
       "      <th>588</th>\n",
       "      <th>589</th>\n",
       "      <th>590</th>\n",
       "      <th>591</th>\n",
       "    </tr>\n",
       "  </thead>\n",
       "  <tbody>\n",
       "    <tr>\n",
       "      <th>YAL051W</th>\n",
       "      <td>3.710295</td>\n",
       "      <td>0.053086</td>\n",
       "      <td>-0.405450</td>\n",
       "      <td>-0.162320</td>\n",
       "      <td>0.085888</td>\n",
       "      <td>-0.290269</td>\n",
       "      <td>-0.424079</td>\n",
       "      <td>0.193244</td>\n",
       "      <td>-0.217021</td>\n",
       "      <td>0.495468</td>\n",
       "      <td>...</td>\n",
       "      <td>0.464474</td>\n",
       "      <td>3.805183</td>\n",
       "      <td>-0.164253</td>\n",
       "      <td>-0.976923</td>\n",
       "      <td>1.475582</td>\n",
       "      <td>1.199114</td>\n",
       "      <td>0.228731</td>\n",
       "      <td>1.764107</td>\n",
       "      <td>0.233461</td>\n",
       "      <td>0.062630</td>\n",
       "    </tr>\n",
       "    <tr>\n",
       "      <th>YBL021C</th>\n",
       "      <td>-0.192670</td>\n",
       "      <td>-0.179450</td>\n",
       "      <td>-1.108277</td>\n",
       "      <td>5.573822</td>\n",
       "      <td>-0.793921</td>\n",
       "      <td>0.837945</td>\n",
       "      <td>-0.866606</td>\n",
       "      <td>-0.539929</td>\n",
       "      <td>-0.831240</td>\n",
       "      <td>0.585766</td>\n",
       "      <td>...</td>\n",
       "      <td>0.519595</td>\n",
       "      <td>-2.785122</td>\n",
       "      <td>-2.564881</td>\n",
       "      <td>0.346842</td>\n",
       "      <td>-0.420121</td>\n",
       "      <td>0.325237</td>\n",
       "      <td>-1.007612</td>\n",
       "      <td>-0.690970</td>\n",
       "      <td>-1.109412</td>\n",
       "      <td>0.043346</td>\n",
       "    </tr>\n",
       "    <tr>\n",
       "      <th>YDL020C</th>\n",
       "      <td>-1.279811</td>\n",
       "      <td>0.090116</td>\n",
       "      <td>0.071207</td>\n",
       "      <td>-0.041080</td>\n",
       "      <td>0.356525</td>\n",
       "      <td>-0.523556</td>\n",
       "      <td>0.461794</td>\n",
       "      <td>0.136104</td>\n",
       "      <td>0.644548</td>\n",
       "      <td>-0.616917</td>\n",
       "      <td>...</td>\n",
       "      <td>1.640616</td>\n",
       "      <td>-0.700301</td>\n",
       "      <td>1.027854</td>\n",
       "      <td>0.203836</td>\n",
       "      <td>-1.058214</td>\n",
       "      <td>-1.122008</td>\n",
       "      <td>1.361420</td>\n",
       "      <td>-1.814386</td>\n",
       "      <td>-0.449060</td>\n",
       "      <td>-0.026095</td>\n",
       "    </tr>\n",
       "    <tr>\n",
       "      <th>YDL170W</th>\n",
       "      <td>-0.594319</td>\n",
       "      <td>-1.119180</td>\n",
       "      <td>0.722332</td>\n",
       "      <td>0.550756</td>\n",
       "      <td>1.014751</td>\n",
       "      <td>0.132241</td>\n",
       "      <td>0.283441</td>\n",
       "      <td>0.271633</td>\n",
       "      <td>-0.908362</td>\n",
       "      <td>-0.526234</td>\n",
       "      <td>...</td>\n",
       "      <td>0.977762</td>\n",
       "      <td>-0.007700</td>\n",
       "      <td>-0.397719</td>\n",
       "      <td>-0.436544</td>\n",
       "      <td>0.166430</td>\n",
       "      <td>0.437772</td>\n",
       "      <td>-0.475019</td>\n",
       "      <td>-1.467879</td>\n",
       "      <td>-0.630191</td>\n",
       "      <td>0.040846</td>\n",
       "    </tr>\n",
       "    <tr>\n",
       "      <th>YDR034C</th>\n",
       "      <td>0.904702</td>\n",
       "      <td>0.047328</td>\n",
       "      <td>-0.190945</td>\n",
       "      <td>-0.246842</td>\n",
       "      <td>-0.139036</td>\n",
       "      <td>0.668448</td>\n",
       "      <td>1.560540</td>\n",
       "      <td>-0.098292</td>\n",
       "      <td>0.061412</td>\n",
       "      <td>-0.055329</td>\n",
       "      <td>...</td>\n",
       "      <td>-0.498803</td>\n",
       "      <td>1.173229</td>\n",
       "      <td>-1.527722</td>\n",
       "      <td>0.860117</td>\n",
       "      <td>-0.706753</td>\n",
       "      <td>0.215202</td>\n",
       "      <td>-0.457521</td>\n",
       "      <td>-0.794626</td>\n",
       "      <td>-0.075012</td>\n",
       "      <td>-0.024426</td>\n",
       "    </tr>\n",
       "  </tbody>\n",
       "</table>\n",
       "<p>5 rows × 591 columns</p>\n",
       "</div>"
      ],
      "text/plain": [
       "              1         2         3         4         5         6         7    \\\n",
       "YAL051W  3.710295  0.053086 -0.405450 -0.162320  0.085888 -0.290269 -0.424079   \n",
       "YBL021C -0.192670 -0.179450 -1.108277  5.573822 -0.793921  0.837945 -0.866606   \n",
       "YDL020C -1.279811  0.090116  0.071207 -0.041080  0.356525 -0.523556  0.461794   \n",
       "YDL170W -0.594319 -1.119180  0.722332  0.550756  1.014751  0.132241  0.283441   \n",
       "YDR034C  0.904702  0.047328 -0.190945 -0.246842 -0.139036  0.668448  1.560540   \n",
       "\n",
       "              8         9         10   ...       582       583       584  \\\n",
       "YAL051W  0.193244 -0.217021  0.495468  ...  0.464474  3.805183 -0.164253   \n",
       "YBL021C -0.539929 -0.831240  0.585766  ...  0.519595 -2.785122 -2.564881   \n",
       "YDL020C  0.136104  0.644548 -0.616917  ...  1.640616 -0.700301  1.027854   \n",
       "YDL170W  0.271633 -0.908362 -0.526234  ...  0.977762 -0.007700 -0.397719   \n",
       "YDR034C -0.098292  0.061412 -0.055329  ... -0.498803  1.173229 -1.527722   \n",
       "\n",
       "              585       586       587       588       589       590       591  \n",
       "YAL051W -0.976923  1.475582  1.199114  0.228731  1.764107  0.233461  0.062630  \n",
       "YBL021C  0.346842 -0.420121  0.325237 -1.007612 -0.690970 -1.109412  0.043346  \n",
       "YDL020C  0.203836 -1.058214 -1.122008  1.361420 -1.814386 -0.449060 -0.026095  \n",
       "YDL170W -0.436544  0.166430  0.437772 -0.475019 -1.467879 -0.630191  0.040846  \n",
       "YDR034C  0.860117 -0.706753  0.215202 -0.457521 -0.794626 -0.075012 -0.024426  \n",
       "\n",
       "[5 rows x 591 columns]"
      ]
     },
     "execution_count": 40,
     "metadata": {},
     "output_type": "execute_result"
    }
   ],
   "source": [
    "df_zev_15_45_90_tfa_cynthia.head()"
   ]
  },
  {
   "cell_type": "code",
   "execution_count": 41,
   "metadata": {},
   "outputs": [
    {
     "data": {
      "text/html": [
       "<div>\n",
       "<style scoped>\n",
       "    .dataframe tbody tr th:only-of-type {\n",
       "        vertical-align: middle;\n",
       "    }\n",
       "\n",
       "    .dataframe tbody tr th {\n",
       "        vertical-align: top;\n",
       "    }\n",
       "\n",
       "    .dataframe thead th {\n",
       "        text-align: right;\n",
       "    }\n",
       "</style>\n",
       "<table border=\"1\" class=\"dataframe\">\n",
       "  <thead>\n",
       "    <tr style=\"text-align: right;\">\n",
       "      <th></th>\n",
       "      <th>0</th>\n",
       "      <th>1</th>\n",
       "      <th>2</th>\n",
       "      <th>3</th>\n",
       "      <th>4</th>\n",
       "      <th>5</th>\n",
       "      <th>6</th>\n",
       "      <th>7</th>\n",
       "      <th>8</th>\n",
       "      <th>9</th>\n",
       "      <th>...</th>\n",
       "      <th>581</th>\n",
       "      <th>582</th>\n",
       "      <th>583</th>\n",
       "      <th>584</th>\n",
       "      <th>585</th>\n",
       "      <th>586</th>\n",
       "      <th>587</th>\n",
       "      <th>588</th>\n",
       "      <th>589</th>\n",
       "      <th>590</th>\n",
       "    </tr>\n",
       "  </thead>\n",
       "  <tbody>\n",
       "    <tr>\n",
       "      <th>YAL051W</th>\n",
       "      <td>6.983054</td>\n",
       "      <td>0.040988</td>\n",
       "      <td>-0.829399</td>\n",
       "      <td>-0.367892</td>\n",
       "      <td>0.103252</td>\n",
       "      <td>-0.610764</td>\n",
       "      <td>-0.864761</td>\n",
       "      <td>0.307033</td>\n",
       "      <td>-0.471727</td>\n",
       "      <td>0.880713</td>\n",
       "      <td>...</td>\n",
       "      <td>0.371850</td>\n",
       "      <td>3.016772</td>\n",
       "      <td>-0.125928</td>\n",
       "      <td>-0.769339</td>\n",
       "      <td>1.172369</td>\n",
       "      <td>0.953483</td>\n",
       "      <td>0.185207</td>\n",
       "      <td>1.400802</td>\n",
       "      <td>0.188952</td>\n",
       "      <td>0.053701</td>\n",
       "    </tr>\n",
       "    <tr>\n",
       "      <th>YBL021C</th>\n",
       "      <td>-0.241171</td>\n",
       "      <td>-0.225919</td>\n",
       "      <td>-1.297588</td>\n",
       "      <td>6.412140</td>\n",
       "      <td>-0.934887</td>\n",
       "      <td>0.947940</td>\n",
       "      <td>-1.018750</td>\n",
       "      <td>-0.641835</td>\n",
       "      <td>-0.977946</td>\n",
       "      <td>0.656980</td>\n",
       "      <td>...</td>\n",
       "      <td>0.468517</td>\n",
       "      <td>-2.408002</td>\n",
       "      <td>-2.216298</td>\n",
       "      <td>0.318148</td>\n",
       "      <td>-0.349438</td>\n",
       "      <td>0.299342</td>\n",
       "      <td>-0.860807</td>\n",
       "      <td>-0.585193</td>\n",
       "      <td>-0.949417</td>\n",
       "      <td>0.053976</td>\n",
       "    </tr>\n",
       "    <tr>\n",
       "      <th>YDL020C</th>\n",
       "      <td>-1.750637</td>\n",
       "      <td>0.126084</td>\n",
       "      <td>0.100180</td>\n",
       "      <td>-0.053646</td>\n",
       "      <td>0.491050</td>\n",
       "      <td>-0.714612</td>\n",
       "      <td>0.635262</td>\n",
       "      <td>0.189086</td>\n",
       "      <td>0.885625</td>\n",
       "      <td>-0.842510</td>\n",
       "      <td>...</td>\n",
       "      <td>1.505237</td>\n",
       "      <td>-0.634997</td>\n",
       "      <td>0.945005</td>\n",
       "      <td>0.191630</td>\n",
       "      <td>-0.962227</td>\n",
       "      <td>-1.020552</td>\n",
       "      <td>1.249976</td>\n",
       "      <td>-1.653574</td>\n",
       "      <td>-0.405294</td>\n",
       "      <td>-0.018589</td>\n",
       "    </tr>\n",
       "    <tr>\n",
       "      <th>YDL170W</th>\n",
       "      <td>-0.778083</td>\n",
       "      <td>-1.467709</td>\n",
       "      <td>0.951890</td>\n",
       "      <td>0.726452</td>\n",
       "      <td>1.336104</td>\n",
       "      <td>0.176557</td>\n",
       "      <td>0.375222</td>\n",
       "      <td>0.359708</td>\n",
       "      <td>-1.190711</td>\n",
       "      <td>-0.688625</td>\n",
       "      <td>...</td>\n",
       "      <td>0.870477</td>\n",
       "      <td>0.018052</td>\n",
       "      <td>-0.319315</td>\n",
       "      <td>-0.352899</td>\n",
       "      <td>0.168674</td>\n",
       "      <td>0.403386</td>\n",
       "      <td>-0.386180</td>\n",
       "      <td>-1.245004</td>\n",
       "      <td>-0.520403</td>\n",
       "      <td>0.060044</td>\n",
       "    </tr>\n",
       "    <tr>\n",
       "      <th>YDR034C</th>\n",
       "      <td>1.007196</td>\n",
       "      <td>-0.012530</td>\n",
       "      <td>-0.295922</td>\n",
       "      <td>-0.362403</td>\n",
       "      <td>-0.234184</td>\n",
       "      <td>0.726206</td>\n",
       "      <td>1.787223</td>\n",
       "      <td>-0.185724</td>\n",
       "      <td>0.004222</td>\n",
       "      <td>-0.134625</td>\n",
       "      <td>...</td>\n",
       "      <td>-0.419778</td>\n",
       "      <td>1.231860</td>\n",
       "      <td>-1.436147</td>\n",
       "      <td>0.922567</td>\n",
       "      <td>-0.625192</td>\n",
       "      <td>0.285518</td>\n",
       "      <td>-0.378999</td>\n",
       "      <td>-0.711993</td>\n",
       "      <td>-0.001156</td>\n",
       "      <td>0.048813</td>\n",
       "    </tr>\n",
       "  </tbody>\n",
       "</table>\n",
       "<p>5 rows × 591 columns</p>\n",
       "</div>"
      ],
      "text/plain": [
       "              0         1         2         3         4         5         6    \\\n",
       "YAL051W  6.983054  0.040988 -0.829399 -0.367892  0.103252 -0.610764 -0.864761   \n",
       "YBL021C -0.241171 -0.225919 -1.297588  6.412140 -0.934887  0.947940 -1.018750   \n",
       "YDL020C -1.750637  0.126084  0.100180 -0.053646  0.491050 -0.714612  0.635262   \n",
       "YDL170W -0.778083 -1.467709  0.951890  0.726452  1.336104  0.176557  0.375222   \n",
       "YDR034C  1.007196 -0.012530 -0.295922 -0.362403 -0.234184  0.726206  1.787223   \n",
       "\n",
       "              7         8         9    ...       581       582       583  \\\n",
       "YAL051W  0.307033 -0.471727  0.880713  ...  0.371850  3.016772 -0.125928   \n",
       "YBL021C -0.641835 -0.977946  0.656980  ...  0.468517 -2.408002 -2.216298   \n",
       "YDL020C  0.189086  0.885625 -0.842510  ...  1.505237 -0.634997  0.945005   \n",
       "YDL170W  0.359708 -1.190711 -0.688625  ...  0.870477  0.018052 -0.319315   \n",
       "YDR034C -0.185724  0.004222 -0.134625  ... -0.419778  1.231860 -1.436147   \n",
       "\n",
       "              584       585       586       587       588       589       590  \n",
       "YAL051W -0.769339  1.172369  0.953483  0.185207  1.400802  0.188952  0.053701  \n",
       "YBL021C  0.318148 -0.349438  0.299342 -0.860807 -0.585193 -0.949417  0.053976  \n",
       "YDL020C  0.191630 -0.962227 -1.020552  1.249976 -1.653574 -0.405294 -0.018589  \n",
       "YDL170W -0.352899  0.168674  0.403386 -0.386180 -1.245004 -0.520403  0.060044  \n",
       "YDR034C  0.922567 -0.625192  0.285518 -0.378999 -0.711993 -0.001156  0.048813  \n",
       "\n",
       "[5 rows x 591 columns]"
      ]
     },
     "execution_count": 41,
     "metadata": {},
     "output_type": "execute_result"
    }
   ],
   "source": [
    "df_tfa.head()"
   ]
  },
  {
   "cell_type": "code",
   "execution_count": null,
   "metadata": {},
   "outputs": [],
   "source": []
  }
 ],
 "metadata": {
  "kernelspec": {
   "display_name": "analysis",
   "language": "python",
   "name": "analysis"
  },
  "language_info": {
   "codemirror_mode": {
    "name": "ipython",
    "version": 3
   },
   "file_extension": ".py",
   "mimetype": "text/x-python",
   "name": "python",
   "nbconvert_exporter": "python",
   "pygments_lexer": "ipython3",
   "version": "3.5.4"
  }
 },
 "nbformat": 4,
 "nbformat_minor": 2
}
